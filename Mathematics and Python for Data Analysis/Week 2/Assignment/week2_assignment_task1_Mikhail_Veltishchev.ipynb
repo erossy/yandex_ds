{
 "cells": [
  {
   "cell_type": "markdown",
   "metadata": {},
   "source": [
    "#### Открываем файл, создаем список с элементами, представляющими собой каждое предложение в нижнем регистре"
   ]
  },
  {
   "cell_type": "code",
   "execution_count": 7,
   "metadata": {},
   "outputs": [
    {
     "name": "stdout",
     "output_type": "stream",
     "text": [
      "['in comparison to dogs, cats have not undergone major changes during the domestication process.\\n', 'as cat simply catenates streams of bytes, it can be also used to concatenate binary files, where it will just concatenate sequence of bytes.\\n', 'a common interactive use of cat for a single file is to output the content of a file to standard output.\\n', 'cats can hear sounds too faint or too high in frequency for human ears, such as those made by mice and other small animals.\\n', 'in one, people deliberately tamed cats in a process of artificial selection, as they were useful predators of vermin.\\n', 'the domesticated cat and its closest wild ancestor are both diploid organisms that possess 38 chromosomes and roughly 20,000 genes.\\n', 'domestic cats are similar in size to the other members of the genus felis, typically weighing between 4 and 5 kg (8.8 and 11.0 lb).\\n', 'however, if the output is piped or redirected, cat is unnecessary.\\n', 'cat with one named file is safer where human error is a concern - one wrong use of the default redirection symbol \">\" instead of \"<\" (often adjacent on keyboards) may permanently delete the file you were just needing to read.\\n', 'in terms of legibility, a sequence of commands starting with cat and connected by pipes has a clear left-to-right flow of information.\\n', 'cat command is one of the basic commands that you learned when you started in the unix / linux world.\\n', 'using cat command, the lines received from stdin can be redirected to a new file using redirection symbols.\\n', 'when you type simply cat command without any arguments, it just receives the stdin content and displays it in the stdout.\\n', 'leopard was released on october 26, 2007 as the successor of tiger (version 10.4), and is available in two editions.\\n', 'according to apple, leopard contains over 300 changes and enhancements over its predecessor, mac os x tiger.\\n', 'as of mid 2010, some apple computers have firmware factory installed which will no longer allow installation of mac os x leopard.\\n', 'since apple moved to using intel processors in their computers, the osx86 community has developed and now also allows mac os x tiger and later releases to be installed on non-apple x86-based computers.\\n', \"os x mountain lion was released on july 25, 2012 for purchase and download through apple's mac app store, as part of a switch to releasing os x versions online and every year.\\n\", 'apple has released a small patch for the three most recent versions of safari running on os x yosemite, mavericks, and mountain lion.\\n', 'the mountain lion release marks the second time apple has offered an incremental upgrade, rather than releasing a new cat entirely.\\n', \"mac os x mountain lion installs in place, so you won't need to create a separate disk or run the installation off an external drive.\\n\", \"the fifth major update to mac os x, leopard, contains such a mountain of features - more than 300 by apple's count.\\n\"]\n"
     ]
    }
   ],
   "source": [
    "f = open(\"sentences.txt\", \"r\")\n",
    "sentences = []\n",
    "for line in f:\n",
    "    sentences.append(line.lower())\n",
    "print(sentences)"
   ]
  },
  {
   "cell_type": "markdown",
   "metadata": {},
   "source": [
    "#### Сплитим каждый элемент списка, парсим в новый список каждое слово, затем отфильтровываем пустые слова с помощью фильтра"
   ]
  },
  {
   "cell_type": "code",
   "execution_count": 8,
   "metadata": {
    "scrolled": true
   },
   "outputs": [
    {
     "name": "stdout",
     "output_type": "stream",
     "text": [
      "['in', 'comparison', 'to', 'dogs', 'cats', 'have', 'not', 'undergone', 'major', 'changes', 'during', 'the', 'domestication', 'process', 'as', 'cat', 'simply', 'catenates', 'streams', 'of', 'bytes', 'it', 'can', 'be', 'also', 'used', 'to', 'concatenate', 'binary', 'files', 'where', 'it', 'will', 'just', 'concatenate', 'sequence', 'of', 'bytes', 'a', 'common', 'interactive', 'use', 'of', 'cat', 'for', 'a', 'single', 'file', 'is', 'to', 'output', 'the', 'content', 'of', 'a', 'file', 'to', 'standard', 'output', 'cats', 'can', 'hear', 'sounds', 'too', 'faint', 'or', 'too', 'high', 'in', 'frequency', 'for', 'human', 'ears', 'such', 'as', 'those', 'made', 'by', 'mice', 'and', 'other', 'small', 'animals', 'in', 'one', 'people', 'deliberately', 'tamed', 'cats', 'in', 'a', 'process', 'of', 'artificial', 'selection', 'as', 'they', 'were', 'useful', 'predators', 'of', 'vermin', 'the', 'domesticated', 'cat', 'and', 'its', 'closest', 'wild', 'ancestor', 'are', 'both', 'diploid', 'organisms', 'that', 'possess', 'chromosomes', 'and', 'roughly', 'genes', 'domestic', 'cats', 'are', 'similar', 'in', 'size', 'to', 'the', 'other', 'members', 'of', 'the', 'genus', 'felis', 'typically', 'weighing', 'between', 'and', 'kg', 'and', 'lb', 'however', 'if', 'the', 'output', 'is', 'piped', 'or', 'redirected', 'cat', 'is', 'unnecessary', 'cat', 'with', 'one', 'named', 'file', 'is', 'safer', 'where', 'human', 'error', 'is', 'a', 'concern', 'one', 'wrong', 'use', 'of', 'the', 'default', 'redirection', 'symbol', 'instead', 'of', 'often', 'adjacent', 'on', 'keyboards', 'may', 'permanently', 'delete', 'the', 'file', 'you', 'were', 'just', 'needing', 'to', 'read', 'in', 'terms', 'of', 'legibility', 'a', 'sequence', 'of', 'commands', 'starting', 'with', 'cat', 'and', 'connected', 'by', 'pipes', 'has', 'a', 'clear', 'left', 'to', 'right', 'flow', 'of', 'information', 'cat', 'command', 'is', 'one', 'of', 'the', 'basic', 'commands', 'that', 'you', 'learned', 'when', 'you', 'started', 'in', 'the', 'unix', 'linux', 'world', 'using', 'cat', 'command', 'the', 'lines', 'received', 'from', 'stdin', 'can', 'be', 'redirected', 'to', 'a', 'new', 'file', 'using', 'redirection', 'symbols', 'when', 'you', 'type', 'simply', 'cat', 'command', 'without', 'any', 'arguments', 'it', 'just', 'receives', 'the', 'stdin', 'content', 'and', 'displays', 'it', 'in', 'the', 'stdout', 'leopard', 'was', 'released', 'on', 'october', 'as', 'the', 'successor', 'of', 'tiger', 'version', 'and', 'is', 'available', 'in', 'two', 'editions', 'according', 'to', 'apple', 'leopard', 'contains', 'over', 'changes', 'and', 'enhancements', 'over', 'its', 'predecessor', 'mac', 'os', 'x', 'tiger', 'as', 'of', 'mid', 'some', 'apple', 'computers', 'have', 'firmware', 'factory', 'installed', 'which', 'will', 'no', 'longer', 'allow', 'installation', 'of', 'mac', 'os', 'x', 'leopard', 'since', 'apple', 'moved', 'to', 'using', 'intel', 'processors', 'in', 'their', 'computers', 'the', 'osx', 'community', 'has', 'developed', 'and', 'now', 'also', 'allows', 'mac', 'os', 'x', 'tiger', 'and', 'later', 'releases', 'to', 'be', 'installed', 'on', 'non', 'apple', 'x', 'based', 'computers', 'os', 'x', 'mountain', 'lion', 'was', 'released', 'on', 'july', 'for', 'purchase', 'and', 'download', 'through', 'apple', 's', 'mac', 'app', 'store', 'as', 'part', 'of', 'a', 'switch', 'to', 'releasing', 'os', 'x', 'versions', 'online', 'and', 'every', 'year', 'apple', 'has', 'released', 'a', 'small', 'patch', 'for', 'the', 'three', 'most', 'recent', 'versions', 'of', 'safari', 'running', 'on', 'os', 'x', 'yosemite', 'mavericks', 'and', 'mountain', 'lion', 'the', 'mountain', 'lion', 'release', 'marks', 'the', 'second', 'time', 'apple', 'has', 'offered', 'an', 'incremental', 'upgrade', 'rather', 'than', 'releasing', 'a', 'new', 'cat', 'entirely', 'mac', 'os', 'x', 'mountain', 'lion', 'installs', 'in', 'place', 'so', 'you', 'won', 't', 'need', 'to', 'create', 'a', 'separate', 'disk', 'or', 'run', 'the', 'installation', 'off', 'an', 'external', 'drive', 'the', 'fifth', 'major', 'update', 'to', 'mac', 'os', 'x', 'leopard', 'contains', 'such', 'a', 'mountain', 'of', 'features', 'more', 'than', 'by', 'apple', 's', 'count']\n"
     ]
    }
   ],
   "source": [
    "import re\n",
    "words = []\n",
    "for sentence in sentences:    \n",
    "    for word in re.split(\"[^a-z]\",sentence):\n",
    "        words.append(word)\n",
    "words = list(filter(None, words))\n",
    "print(words)"
   ]
  },
  {
   "cell_type": "markdown",
   "metadata": {},
   "source": [
    "#### Убираем дубликаты, превращая список в множество"
   ]
  },
  {
   "cell_type": "code",
   "execution_count": 9,
   "metadata": {},
   "outputs": [],
   "source": [
    "unique_words = set(words)"
   ]
  },
  {
   "cell_type": "markdown",
   "metadata": {},
   "source": [
    "#### Создаем словарь из уникальных слов (не очень понятно в чем функциональное предназначение этого шага, но того требовала задача)"
   ]
  },
  {
   "cell_type": "code",
   "execution_count": 10,
   "metadata": {},
   "outputs": [
    {
     "name": "stdout",
     "output_type": "stream",
     "text": [
      "{0: 'was', 1: 'running', 2: 'tiger', 3: 'according', 4: 'mountain', 5: 'place', 6: 'sounds', 7: 'keyboards', 8: 'from', 9: 'the', 10: 'since', 11: 'flow', 12: 'output', 13: 'no', 14: 'store', 15: 'command', 16: 'allows', 17: 'genus', 18: 'or', 19: 'installed', 20: 'installs', 21: 'ears', 22: 'as', 23: 'human', 24: 'often', 25: 'has', 26: 'over', 27: 'os', 28: 'deliberately', 29: 'three', 30: 'time', 31: 'mid', 32: 'domesticated', 33: 'felis', 34: 'now', 35: 'however', 36: 'also', 37: 'process', 38: 'yosemite', 39: 'interactive', 40: 'default', 41: 'instead', 42: 'adjacent', 43: 'when', 44: 'marks', 45: 'domestication', 46: 'standard', 47: 'selection', 48: 'every', 49: 'rather', 50: 'successor', 51: 'releasing', 52: 'using', 53: 'its', 54: 'purchase', 55: 'mac', 56: 'drive', 57: 'used', 58: 'create', 59: 'have', 60: 'organisms', 61: 'genes', 62: 'be', 63: 'factory', 64: 'with', 65: 'both', 66: 'available', 67: 'those', 68: 'apple', 69: 'content', 70: 'where', 71: 'predecessor', 72: 'other', 73: 'that', 74: 'second', 75: 'delete', 76: 'releases', 77: 'released', 78: 'it', 79: 'comparison', 80: 'a', 81: 'clear', 82: 'off', 83: 'versions', 84: 'artificial', 85: 'intel', 86: 'october', 87: 'catenates', 88: 'app', 89: 'year', 90: 'based', 91: 'more', 92: 'two', 93: 'use', 94: 'is', 95: 'tamed', 96: 'through', 97: 'run', 98: 'world', 99: 'on', 100: 'new', 101: 'commands', 102: 'common', 103: 'are', 104: 'basic', 105: 'without', 106: 'people', 107: 'such', 108: 'small', 109: 'can', 110: 'arguments', 111: 'leopard', 112: 'received', 113: 'later', 114: 'firmware', 115: 'read', 116: 'kg', 117: 'dogs', 118: 'so', 119: 'won', 120: 'disk', 121: 'mice', 122: 'which', 123: 'unnecessary', 124: 'started', 125: 'version', 126: 'community', 127: 'size', 128: 'animals', 129: 'by', 130: 'faint', 131: 'non', 132: 'count', 133: 'just', 134: 'if', 135: 'unix', 136: 'permanently', 137: 'were', 138: 'and', 139: 'redirection', 140: 'processors', 141: 's', 142: 'part', 143: 'offered', 144: 'simply', 145: 'to', 146: 'you', 147: 'chromosomes', 148: 'contains', 149: 'lb', 150: 'one', 151: 'in', 152: 'computers', 153: 'right', 154: 'lines', 155: 'any', 156: 'enhancements', 157: 'switch', 158: 'piped', 159: 'safer', 160: 'vermin', 161: 'some', 162: 'patch', 163: 'x', 164: 'file', 165: 'july', 166: 'fifth', 167: 'sequence', 168: 'closest', 169: 'learned', 170: 'recent', 171: 'incremental', 172: 'may', 173: 'during', 174: 'needing', 175: 'need', 176: 'made', 177: 'receives', 178: 'osx', 179: 'between', 180: 'roughly', 181: 'files', 182: 'release', 183: 'moved', 184: 'members', 185: 'binary', 186: 'predators', 187: 'most', 188: 'diploid', 189: 'installation', 190: 'lion', 191: 'legibility', 192: 'not', 193: 'download', 194: 'left', 195: 'possess', 196: 'developed', 197: 'undergone', 198: 'entirely', 199: 'wrong', 200: 'bytes', 201: 'redirected', 202: 'error', 203: 'terms', 204: 'high', 205: 'external', 206: 'named', 207: 'type', 208: 'they', 209: 'than', 210: 'concern', 211: 'mavericks', 212: 't', 213: 'stdout', 214: 'their', 215: 'hear', 216: 'major', 217: 'will', 218: 'of', 219: 'symbols', 220: 'linux', 221: 'similar', 222: 'wild', 223: 'connected', 224: 'ancestor', 225: 'editions', 226: 'allow', 227: 'for', 228: 'frequency', 229: 'changes', 230: 'useful', 231: 'weighing', 232: 'starting', 233: 'safari', 234: 'features', 235: 'typically', 236: 'stdin', 237: 'longer', 238: 'upgrade', 239: 'cat', 240: 'domestic', 241: 'separate', 242: 'an', 243: 'single', 244: 'update', 245: 'pipes', 246: 'concatenate', 247: 'symbol', 248: 'online', 249: 'information', 250: 'cats', 251: 'displays', 252: 'too', 253: 'streams'}\n"
     ]
    }
   ],
   "source": [
    "words_dict = {}\n",
    "i = 0\n",
    "for word in unique_words:\n",
    "    words_dict.update({i:word})\n",
    "    i = i + 1\n",
    "print(words_dict)"
   ]
  },
  {
   "cell_type": "markdown",
   "metadata": {},
   "source": [
    "#### Итерируем слова из списка уникальных слов в каждом предложении, считая сколько раз они попались. Cоздаем матрицу"
   ]
  },
  {
   "cell_type": "code",
   "execution_count": 78,
   "metadata": {},
   "outputs": [],
   "source": [
    "import numpy as np\n",
    "n = []\n",
    "for sentence in sentences:\n",
    "    d = []\n",
    "    for word in unique_words:\n",
    "        d.append((list(filter(None,re.split(\"[^a-z]\",sentence))).count(word)))\n",
    "    n.append(d)\n",
    "a = np.array(n)\n",
    "print(a)"
   ]
  },
  {
   "cell_type": "markdown",
   "metadata": {},
   "source": [
    "#### Cчитаем косинусное расстояние между 0 вектором матрицы и всеми остальными, записывая результаты в список, ищем первый и второй минимум этого списка и записываем в файл соотв. предложения "
   ]
  },
  {
   "cell_type": "code",
   "execution_count": 80,
   "metadata": {},
   "outputs": [
    {
     "data": {
      "text/plain": [
       "3"
      ]
     },
     "execution_count": 80,
     "metadata": {},
     "output_type": "execute_result"
    }
   ],
   "source": [
    "from scipy.spatial import distance\n",
    "i = 1\n",
    "cosine_distance = []\n",
    "while i < 22:\n",
    "    cosine_distance.append(distance.cosine(a[0],a[i]))\n",
    "    i = i + 1\n",
    "x = str(cosine_distance.index(sorted(cosine_distance)[0])+1)\n",
    "y = str(cosine_distance.index(sorted(cosine_distance)[1])+1)\n",
    "open(\"week2_assignment_task1_MiV.txt\", \"w\").write(x+\" \"+y)"
   ]
  }
 ],
 "metadata": {
  "kernelspec": {
   "display_name": "Python 3",
   "language": "python",
   "name": "python3"
  },
  "language_info": {
   "codemirror_mode": {
    "name": "ipython",
    "version": 3
   },
   "file_extension": ".py",
   "mimetype": "text/x-python",
   "name": "python",
   "nbconvert_exporter": "python",
   "pygments_lexer": "ipython3",
   "version": "3.7.3"
  }
 },
 "nbformat": 4,
 "nbformat_minor": 2
}
