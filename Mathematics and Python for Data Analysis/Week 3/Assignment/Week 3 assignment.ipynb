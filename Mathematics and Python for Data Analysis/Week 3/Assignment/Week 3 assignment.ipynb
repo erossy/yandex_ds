{
 "cells": [
  {
   "cell_type": "code",
   "execution_count": 66,
   "metadata": {},
   "outputs": [],
   "source": [
    "import numpy as np\n",
    "def f(x):\n",
    "    return(np.sin(x/5)*np.exp(x/10)+5*np.exp(-x/2))"
   ]
  },
  {
   "cell_type": "code",
   "execution_count": 67,
   "metadata": {},
   "outputs": [],
   "source": [
    "from scipy import optimize"
   ]
  },
  {
   "cell_type": "code",
   "execution_count": 68,
   "metadata": {},
   "outputs": [],
   "source": [
    "%matplotlib inline"
   ]
  },
  {
   "cell_type": "code",
   "execution_count": 69,
   "metadata": {},
   "outputs": [],
   "source": [
    "from matplotlib import style\n",
    "style.use('dark_background')"
   ]
  },
  {
   "cell_type": "code",
   "execution_count": 70,
   "metadata": {},
   "outputs": [],
   "source": [
    "from matplotlib import pylab as plt"
   ]
  },
  {
   "cell_type": "code",
   "execution_count": 71,
   "metadata": {},
   "outputs": [],
   "source": [
    "x = np.arange(1,31,0.01)"
   ]
  },
  {
   "cell_type": "code",
   "execution_count": 72,
   "metadata": {},
   "outputs": [
    {
     "data": {
      "text/plain": [
       "[<matplotlib.lines.Line2D at 0x269fb32f358>]"
      ]
     },
     "execution_count": 72,
     "metadata": {},
     "output_type": "execute_result"
    },
    {
     "data": {
      "image/png": "[encoded data removed]",
      "text/plain": [
       "<Figure size 432x288 with 1 Axes>"
      ]
     },
     "metadata": {},
     "output_type": "display_data"
    }
   ],
   "source": [
    "plt.plot(x,f(x))"
   ]
  },
  {
   "cell_type": "code",
   "execution_count": 90,
   "metadata": {},
   "outputs": [
    {
     "name": "stdout",
     "output_type": "stream",
     "text": [
      "      fun: 1.7452682903447336\n",
      " hess_inv: array([[5.98752645]])\n",
      "      jac: array([-2.04145908e-06])\n",
      "  message: 'Optimization terminated successfully.'\n",
      "     nfev: 21\n",
      "      nit: 6\n",
      "     njev: 7\n",
      "   status: 0\n",
      "  success: True\n",
      "        x: array([4.13627628])\n",
      "      fun: -11.898894665981313\n",
      " hess_inv: array([[1.67936744]])\n",
      "      jac: array([0.])\n",
      "  message: 'Optimization terminated successfully.'\n",
      "     nfev: 21\n",
      "      nit: 6\n",
      "     njev: 7\n",
      "   status: 0\n",
      "  success: True\n",
      "        x: array([25.88019321])\n",
      "[4.13627628]\n",
      "[25.88019321]\n",
      "[1.74526829]\n",
      "1.75\n"
     ]
    },
    {
     "data": {
      "text/plain": [
       "str"
      ]
     },
     "execution_count": 90,
     "metadata": {},
     "output_type": "execute_result"
    }
   ],
   "source": [
    "x0 = 2\n",
    "x1 = 30\n",
    "res_bfgs_0 = optimize.minimize(f,x0,method=\"BFGS\")\n",
    "res_bfgs_1 = optimize.minimize(f,x1,method=\"BFGS\")\n",
    "print(res_bfgs_0)\n",
    "print(res_bfgs_1)\n",
    "print(res_bfgs_0.x)\n",
    "print(res_bfgs_1.x)\n",
    "print(str(f(res_bfgs_0.x)))\n",
    "print(format(f(res_bfgs_0.x)[0],\".2f\"))\n",
    "\n",
    "\n",
    "      jac: array([-2.04145908e-06])\n",
    "  message: 'Optimization terminated successfully.'\n",
    "     nfev: 21\n",
    "      nit: 6\n",
    "     njev: 7\n",
    "   status: 0\n",
    "  success: True\n",
    "        x: array([4.13627628])\n",
    "      fun: -11.898894665981313\n"
   ]
  },
  {
   "cell_type": "code",
   "execution_count": 94,
   "metadata": {},
   "outputs": [],
   "source": [
    "with open(\"week3_assignmnent_task1.txt\", \"w\") as file:\n",
    "    file.write(format(f(res_bfgs_0.x)[0],\".2f\")+\" \"+format(f(res_bfgs_1.x)[0],\".2f\"))"
   ]
  },
  {
   "cell_type": "code",
   "execution_count": 18,
   "metadata": {},
   "outputs": [
    {
     "name": "stdout",
     "output_type": "stream",
     "text": [
      "     fun: array([-11.89889467])\n",
      "     jac: array([1.77635684e-07])\n",
      " message: 'Optimization terminated successfully.'\n",
      "    nfev: 83\n",
      "     nit: 4\n",
      " success: True\n",
      "       x: array([25.880193])\n"
     ]
    }
   ],
   "source": [
    "res_evol_0 = optimize.differential_evolution(f,[(1,30)])\n",
    "print(res_evol_0)"
   ]
  },
  {
   "cell_type": "code",
   "execution_count": 95,
   "metadata": {},
   "outputs": [],
   "source": [
    "with open(\"week3_assignmnent_task2.txt\", \"w\") as file:\n",
    "    file.write(format(f(res_evol_0.x[0]),\".2f\"))"
   ]
  },
  {
   "cell_type": "code",
   "execution_count": 39,
   "metadata": {},
   "outputs": [],
   "source": [
    "def h(x):\n",
    "    return(f(x).astype(int))"
   ]
  },
  {
   "cell_type": "code",
   "execution_count": 40,
   "metadata": {
    "scrolled": true
   },
   "outputs": [
    {
     "data": {
      "text/plain": [
       "[<matplotlib.lines.Line2D at 0x269fb9bcef0>]"
      ]
     },
     "execution_count": 40,
     "metadata": {},
     "output_type": "execute_result"
    },
    {
     "data": {
      "image/png": "[encoded data removed]",
      "text/plain": [
       "<Figure size 432x288 with 1 Axes>"
      ]
     },
     "metadata": {},
     "output_type": "display_data"
    }
   ],
   "source": [
    "plt.plot(x,h(x))"
   ]
  },
  {
   "cell_type": "code",
   "execution_count": 105,
   "metadata": {},
   "outputs": [
    {
     "name": "stdout",
     "output_type": "stream",
     "text": [
      "      fun: array([-5])\n",
      " hess_inv: array([[1]])\n",
      "      jac: array([0.])\n",
      "  message: 'Optimization terminated successfully.'\n",
      "     nfev: 3\n",
      "      nit: 0\n",
      "     njev: 1\n",
      "   status: 0\n",
      "  success: True\n",
      "        x: array([30.])\n",
      "[30.]\n",
      "-5\n"
     ]
    },
    {
     "data": {
      "text/plain": [
       "numpy.int32"
      ]
     },
     "execution_count": 105,
     "metadata": {},
     "output_type": "execute_result"
    }
   ],
   "source": [
    "x1 = 30\n",
    "res_bfgs_int_1 = optimize.minimize(h,x1,method=\"BFGS\")\n",
    "print(res_bfgs_int_1)\n",
    "print(res_bfgs_int_1.x)\n",
    "print(h(res_bfgs_int_1.x[0]))\n",
    "type(h(res_bfgs_int_1.x[0]))"
   ]
  },
  {
   "cell_type": "code",
   "execution_count": 100,
   "metadata": {},
   "outputs": [
    {
     "name": "stdout",
     "output_type": "stream",
     "text": [
      "     fun: -11.0\n",
      " message: 'Optimization terminated successfully.'\n",
      "    nfev: 107\n",
      "     nit: 6\n",
      " success: True\n",
      "       x: array([25.85935097])\n",
      "25.859350971533132\n",
      "-11\n"
     ]
    }
   ],
   "source": [
    "res_evol_int_0 = optimize.differential_evolution(h,[(1,30)])\n",
    "print(res_evol_int_0)\n",
    "print(res_evol_int_0.x[0])\n",
    "print(h(res_evol_int_0.x[0]))"
   ]
  },
  {
   "cell_type": "code",
   "execution_count": 106,
   "metadata": {},
   "outputs": [],
   "source": [
    "with open(\"week3_assignmnent_task3.txt\", \"w\") as file:\n",
    "    file.write(str(h(res_bfgs_int_1.x)[0])+\" \"+str(h(res_evol_int_0.x)[0]))"
   ]
  }
 ],
 "metadata": {
  "kernelspec": {
   "display_name": "Python 3",
   "language": "python",
   "name": "python3"
  },
  "language_info": {
   "codemirror_mode": {
    "name": "ipython",
    "version": 3
   },
   "file_extension": ".py",
   "mimetype": "text/x-python",
   "name": "python",
   "nbconvert_exporter": "python",
   "pygments_lexer": "ipython3",
   "version": "3.7.3"
  }
 },
 "nbformat": 4,
 "nbformat_minor": 2
}
