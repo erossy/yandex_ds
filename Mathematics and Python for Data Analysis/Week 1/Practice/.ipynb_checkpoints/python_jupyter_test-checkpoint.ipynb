{
 "cells": [
  {
   "cell_type": "code",
   "execution_count": 2,
   "metadata": {},
   "outputs": [
    {
     "name": "stdout",
     "output_type": "stream",
     "text": [
      "hello world\n"
     ]
    }
   ],
   "source": [
    "print (\"hello world\")"
   ]
  },
  {
   "cell_type": "code",
   "execution_count": 2,
   "metadata": {},
   "outputs": [],
   "source": [
    "from math import factorial"
   ]
  },
  {
   "cell_type": "code",
   "execution_count": 3,
   "metadata": {},
   "outputs": [
    {
     "data": {
      "text/plain": [
       "6"
      ]
     },
     "execution_count": 3,
     "metadata": {},
     "output_type": "execute_result"
    }
   ],
   "source": [
    "factorial(3)"
   ]
  },
  {
   "cell_type": "markdown",
   "metadata": {},
   "source": [
    "text"
   ]
  },
  {
   "cell_type": "markdown",
   "metadata": {},
   "source": [
    "# Header "
   ]
  },
  {
   "cell_type": "markdown",
   "metadata": {},
   "source": [
    "$$c = \\sqrt{a^2 + b^2}$$"
   ]
  },
  {
   "cell_type": "code",
   "execution_count": 9,
   "metadata": {},
   "outputs": [
    {
     "name": "stdout",
     "output_type": "stream",
     "text": [
      "\"hello world\"\n"
     ]
    }
   ],
   "source": [
    "! echo \"hello world\""
   ]
  },
  {
   "cell_type": "code",
   "execution_count": 11,
   "metadata": {},
   "outputs": [],
   "source": [
    "t = \"Hello world\""
   ]
  },
  {
   "cell_type": "code",
   "execution_count": 12,
   "metadata": {},
   "outputs": [
    {
     "name": "stdout",
     "output_type": "stream",
     "text": [
      "Hello world\n"
     ]
    }
   ],
   "source": [
    "!echo $t"
   ]
  },
  {
   "cell_type": "code",
   "execution_count": 13,
   "metadata": {},
   "outputs": [
    {
     "name": "stdout",
     "output_type": "stream",
     "text": [
      " Volume in drive C is OSDisk\n",
      " Volume Serial Number is 7C7D-CFA1\n",
      "\n",
      " Directory of C:\\Users\\e042694\\Documents\\Private\\Personal\\Education\\Coursera_Data_Science\\Week 1\\Practice\n",
      "\n",
      "06.06.2019  01:58    <DIR>          .\n",
      "06.06.2019  01:58    <DIR>          ..\n",
      "06.06.2019  01:18    <DIR>          .ipynb_checkpoints\n",
      "06.06.2019  01:58             2я362 python_jupyter_test.ipynb\n",
      "               1 File(s)          2я362 bytes\n",
      "               3 Dir(s)  396я441я337я856 bytes free\n"
     ]
    }
   ],
   "source": [
    "!dir"
   ]
  },
  {
   "cell_type": "code",
   "execution_count": 15,
   "metadata": {},
   "outputs": [
    {
     "name": "stdout",
     "output_type": "stream",
     "text": [
      "Microsoft Windows [Version 10.0.17763.503]\r\n",
      "(c) 2018 Microsoft Corporation. All rights reserved.\r\n",
      "\r\n",
      "(base) C:\\Users\\e042694\\Documents\\Private\\Personal\\Education\\Coursera_Data_Science\\Week 1\\Practice>dir\n",
      " Volume in drive C is OSDisk\r\n",
      " Volume Serial Number is 7C7D-CFA1\r\n",
      "\r\n",
      " Directory of C:\\Users\\e042694\\Documents\\Private\\Personal\\Education\\Coursera_Data_Science\\Week 1\\Practice\r\n",
      "\r\n",
      "06.06.2019  02:00    <DIR>          .\r\n",
      "06.06.2019  02:00    <DIR>          ..\r\n",
      "06.06.2019  01:18    <DIR>          .ipynb_checkpoints\r\n",
      "06.06.2019  02:00             3я010 python_jupyter_test.ipynb\r\n",
      "               1 File(s)          3я010 bytes\r\n",
      "               3 Dir(s)  396я441я956я352 bytes free\r\n",
      "\r\n",
      "(base) C:\\Users\\e042694\\Documents\\Private\\Personal\\Education\\Coursera_Data_Science\\Week 1\\Practice>mkdir \"123\"\n",
      "\r\n",
      "(base) C:\\Users\\e042694\\Documents\\Private\\Personal\\Education\\Coursera_Data_Science\\Week 1\\Practice>dir\n",
      " Volume in drive C is OSDisk\r\n",
      " Volume Serial Number is 7C7D-CFA1\r\n",
      "\r\n",
      " Directory of C:\\Users\\e042694\\Documents\\Private\\Personal\\Education\\Coursera_Data_Science\\Week 1\\Practice\r\n",
      "\r\n",
      "06.06.2019  02:02    <DIR>          .\r\n",
      "06.06.2019  02:02    <DIR>          ..\r\n",
      "06.06.2019  01:18    <DIR>          .ipynb_checkpoints\r\n",
      "06.06.2019  02:02    <DIR>          123\r\n",
      "06.06.2019  02:00             3я010 python_jupyter_test.ipynb\r\n",
      "               1 File(s)          3я010 bytes\r\n",
      "               4 Dir(s)  396я441я956я352 bytes free\r\n",
      "\r\n",
      "(base) C:\\Users\\e042694\\Documents\\Private\\Personal\\Education\\Coursera_Data_Science\\Week 1\\Practice>"
     ]
    }
   ],
   "source": [
    "%%cmd\n",
    "dir\n",
    "mkdir \"123\"\n",
    "dir"
   ]
  },
  {
   "cell_type": "code",
   "execution_count": 16,
   "metadata": {},
   "outputs": [],
   "source": [
    "!rmdir 123"
   ]
  },
  {
   "cell_type": "code",
   "execution_count": 17,
   "metadata": {},
   "outputs": [
    {
     "name": "stdout",
     "output_type": "stream",
     "text": [
      " Volume in drive C is OSDisk\n",
      " Volume Serial Number is 7C7D-CFA1\n",
      "\n",
      " Directory of C:\\Users\\e042694\\Documents\\Private\\Personal\\Education\\Coursera_Data_Science\\Week 1\\Practice\n",
      "\n",
      "06.06.2019  02:02    <DIR>          .\n",
      "06.06.2019  02:02    <DIR>          ..\n",
      "06.06.2019  01:18    <DIR>          .ipynb_checkpoints\n",
      "06.06.2019  02:02             5я267 python_jupyter_test.ipynb\n",
      "               1 File(s)          5я267 bytes\n",
      "               3 Dir(s)  396я441я608я192 bytes free\n"
     ]
    }
   ],
   "source": [
    "!dir"
   ]
  },
  {
   "cell_type": "code",
   "execution_count": null,
   "metadata": {},
   "outputs": [],
   "source": []
  }
 ],
 "metadata": {
  "kernelspec": {
   "display_name": "Python 3",
   "language": "python",
   "name": "python3"
  },
  "language_info": {
   "codemirror_mode": {
    "name": "ipython",
    "version": 3
   },
   "file_extension": ".py",
   "mimetype": "text/x-python",
   "name": "python",
   "nbconvert_exporter": "python",
   "pygments_lexer": "ipython3",
   "version": "3.7.3"
  }
 },
 "nbformat": 4,
 "nbformat_minor": 2
}
